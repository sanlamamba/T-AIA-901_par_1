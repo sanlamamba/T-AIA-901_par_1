{
 "cells": [
  {
   "cell_type": "code",
   "execution_count": 1,
   "metadata": {},
   "outputs": [],
   "source": [
    "import pandas as pd\n",
    "import numpy as np\n",
    "\n",
    "from tqdm.notebook import tqdm\n",
    "import torch\n",
    "import torch.nn as nn\n",
    "import torch.optim as optim\n",
    "from torch.utils.data import DataLoader\n",
    "from sklearn.preprocessing import LabelEncoder\n",
    "from transformers import AutoModel, AutoTokenizer"
   ]
  },
  {
   "cell_type": "code",
   "execution_count": 18,
   "metadata": {},
   "outputs": [],
   "source": [
    "import sys\n",
    "import os\n",
    "os.environ[\"TOKENIZERS_PARALLELISM\"] = \"false\"\n",
    "\n",
    "src_dir = os.path.join(os.getcwd(), 'src')\n",
    "sys.path.append(os.path.abspath(src_dir))\n",
    "\n",
    "from importlib import reload\n",
    "\n",
    "import src.data_type.enum\n",
    "import src.utils.data_loader\n",
    "\n",
    "reload(src.data_type.enum)\n",
    "reload(src.utils.data_loader)\n",
    "\n",
    "from src.data_type.enum import CityType \n",
    "from src.utils.data_loader import DataEncoderTest"
   ]
  },
  {
   "cell_type": "code",
   "execution_count": 3,
   "metadata": {},
   "outputs": [],
   "source": [
    "test_df = pd.read_csv('../data/dataset/test/test1_city.csv', sep=',')"
   ]
  },
  {
   "cell_type": "code",
   "execution_count": 15,
   "metadata": {},
   "outputs": [],
   "source": [
    "batch_size = 30\n",
    "epochs = 2\n",
    "learning_rate = 2e-5\n",
    "\n",
    "device = \"mps\"\n",
    "\n",
    "tokenizer = AutoTokenizer.from_pretrained(\"dbmdz/bert-base-french-europeana-cased\")\n",
    "bert_model = AutoModel.from_pretrained(\"dbmdz/bert-base-french-europeana-cased\")\n",
    "max_len = 128"
   ]
  },
  {
   "cell_type": "code",
   "execution_count": 5,
   "metadata": {},
   "outputs": [],
   "source": [
    "le_statuses = LabelEncoder()\n",
    "\n",
    "classes = CityType._member_names_\n",
    "le_statuses.fit(classes)"
   ]
  },
  {
   "cell_type": "code",
   "execution_count": 19,
   "metadata": {},
   "outputs": [],
   "source": [
    "test_dataset = DataEncoderTest(test_df[\"sentence\"], tokenizer, max_len)\n",
    "\n",
    "test_loader = DataLoader(\n",
    "    test_dataset, batch_size=batch_size, shuffle=True, pin_memory=True, num_workers=4)"
   ]
  },
  {
   "cell_type": "code",
   "execution_count": 20,
   "metadata": {},
   "outputs": [],
   "source": [
    "class BertForSequenceClassification(nn.Module):\n",
    "    def __init__(self, n_classes):\n",
    "        super(BertForSequenceClassification, self).__init__()\n",
    "        self.bert = bert_model\n",
    "        self.drop = nn.Dropout(p=0.3)\n",
    "        self.out_linear = nn.Linear(self.bert.config.hidden_size, n_classes)\n",
    "\n",
    "    def forward(self, input_ids, attention_mask):\n",
    "        outputs = self.bert(\n",
    "            input_ids=input_ids,\n",
    "            attention_mask=attention_mask\n",
    "        )\n",
    "        pooled_output = outputs[1]\n",
    "\n",
    "        output_depart = self.out_linear(self.drop(pooled_output))\n",
    "\n",
    "        return output_depart"
   ]
  },
  {
   "cell_type": "code",
   "execution_count": 21,
   "metadata": {},
   "outputs": [
    {
     "ename": "NameError",
     "evalue": "name 'le_statuses' is not defined",
     "output_type": "error",
     "traceback": [
      "\u001b[0;31m---------------------------------------------------------------------------\u001b[0m",
      "\u001b[0;31mNameError\u001b[0m                                 Traceback (most recent call last)",
      "Cell \u001b[0;32mIn[21], line 1\u001b[0m\n\u001b[0;32m----> 1\u001b[0m model \u001b[38;5;241m=\u001b[39m BertForSequenceClassification(\u001b[38;5;28mlen\u001b[39m(le_statuses\u001b[38;5;241m.\u001b[39mclasses_))\n\u001b[1;32m      2\u001b[0m model\u001b[38;5;241m.\u001b[39mload_state_dict(torch\u001b[38;5;241m.\u001b[39mload(\u001b[38;5;124m\"\u001b[39m\u001b[38;5;124m./processed/city_nlp/model.pth\u001b[39m\u001b[38;5;124m\"\u001b[39m))\n\u001b[1;32m      3\u001b[0m model \u001b[38;5;241m=\u001b[39m model\u001b[38;5;241m.\u001b[39mto(device)\n",
      "\u001b[0;31mNameError\u001b[0m: name 'le_statuses' is not defined"
     ]
    }
   ],
   "source": [
    "model = BertForSequenceClassification(len(le_statuses.classes_))\n",
    "model.load_state_dict(torch.load(\"./processed/city_nlp/model.pth\"))\n",
    "model = model.to(device)\n",
    "optimizer = optim.Adam(\n",
    "    filter(lambda p: p.requires_grad, model.parameters()),\n",
    "    lr=learning_rate\n",
    ")\n",
    "loss_fn = nn.CrossEntropyLoss().to(device)"
   ]
  },
  {
   "cell_type": "code",
   "execution_count": 9,
   "metadata": {},
   "outputs": [],
   "source": [
    "def train_epoch(model, data_loader_train, data_loader_valid, loss_fn, optimizer, device, current_epoch):\n",
    "    model = model.train()\n",
    "    losses_train = []\n",
    "    losses_valid = []\n",
    "    correct_predictions_train = 0\n",
    "    correct_predictions_valid = 0\n",
    "\n",
    "    with tqdm(total=len(data_loader_train), desc=f\"Epoch {current_epoch}\", unit=\"batch\") as pbar:\n",
    "        for d in data_loader_train:\n",
    "            input_ids = d[\"input_ids\"].to(device)\n",
    "            attention_mask = d[\"attention_mask\"].to(device)\n",
    "            labels = d[\"class_name\"].to(device)\n",
    "\n",
    "            optimizer.zero_grad()\n",
    "\n",
    "            outputs = model(\n",
    "                input_ids=input_ids,\n",
    "                attention_mask=attention_mask\n",
    "            )\n",
    "\n",
    "            loss = loss_fn(outputs, labels)\n",
    "\n",
    "            correct_predictions_train += (outputs.argmax(1) == labels).sum().item()\n",
    "            losses_train.append(loss.item())\n",
    "\n",
    "            loss.backward()\n",
    "            optimizer.step()\n",
    "\n",
    "            pbar.update(1)\n",
    "\n",
    "    model = model.eval()\n",
    "\n",
    "    for d in data_loader_valid:\n",
    "        input_ids = d[\"input_ids\"].to(device)\n",
    "        attention_mask = d[\"attention_mask\"].to(device)\n",
    "        labels= d[\"class_name\"].to(device)\n",
    "\n",
    "        outputs = model(\n",
    "            input_ids=input_ids,\n",
    "            attention_mask=attention_mask\n",
    "        )\n",
    "\n",
    "        loss = loss_fn(outputs, labels)\n",
    "\n",
    "        correct_predictions_valid += (outputs.argmax(1) == labels).sum().item()\n",
    "        losses_valid.append(loss.item())\n",
    "\n",
    "    train_acc = correct_predictions_train / len(data_loader_train.dataset)\n",
    "    train_loss = np.mean(losses_train)\n",
    "\n",
    "    valid_acc = correct_predictions_valid / len(data_loader_valid.dataset)\n",
    "    valid_loss = np.mean(losses_valid)\n",
    "\n",
    "    return {\"train_acc\": train_acc, \"train_loss\": train_loss, \"valid_acc\": valid_acc, \"valid_loss\": valid_loss}"
   ]
  },
  {
   "cell_type": "code",
   "execution_count": 11,
   "metadata": {},
   "outputs": [
    {
     "data": {
      "application/vnd.jupyter.widget-view+json": {
       "model_id": "ae2e6a66259847619061c07d15067680",
       "version_major": 2,
       "version_minor": 0
      },
      "text/plain": [
       "Epoch 1:   0%|          | 0/2857 [00:00<?, ?batch/s]"
      ]
     },
     "metadata": {},
     "output_type": "display_data"
    },
    {
     "name": "stdout",
     "output_type": "stream",
     "text": [
      "{'train_acc': 0.9818175452519052, 'train_loss': 0.050076003502920324, 'valid_acc': 0.9999455367354719, 'valid_loss': 0.0006825513058339381}\n"
     ]
    },
    {
     "data": {
      "application/vnd.jupyter.widget-view+json": {
       "model_id": "8ba1b189edcb45059990684e38ced517",
       "version_major": 2,
       "version_minor": 0
      },
      "text/plain": [
       "Epoch 2:   0%|          | 0/2857 [00:00<?, ?batch/s]"
      ]
     },
     "metadata": {},
     "output_type": "display_data"
    },
    {
     "name": "stdout",
     "output_type": "stream",
     "text": [
      "{'train_acc': 0.9991714028965888, 'train_loss': 0.003452826998613531, 'valid_acc': 0.9998910734709439, 'valid_loss': 0.0005522556844230604}\n"
     ]
    }
   ],
   "source": [
    "history = []\n",
    "\n",
    "for epoch in range(epochs):\n",
    "    results = train_epoch(\n",
    "        model,\n",
    "        train_loader,\n",
    "        val_loader,\n",
    "        loss_fn,\n",
    "        optimizer,\n",
    "        device,\n",
    "        epoch + 1\n",
    "    )\n",
    "    print(results)\n",
    "    history.append(results)"
   ]
  },
  {
   "cell_type": "code",
   "execution_count": 12,
   "metadata": {},
   "outputs": [],
   "source": [
    "torch.save(model.state_dict(), \"./processed/model_2/model.pth\")\n",
    "results_df = pd.DataFrame(history)\n",
    "results_df.to_csv(\"./processed/model_2/model.csv\")"
   ]
  },
  {
   "cell_type": "code",
   "execution_count": 9,
   "metadata": {},
   "outputs": [
    {
     "data": {
      "text/plain": [
       "BertForSequenceClassification(\n",
       "  (bert): BertModel(\n",
       "    (embeddings): BertEmbeddings(\n",
       "      (word_embeddings): Embedding(32000, 768, padding_idx=0)\n",
       "      (position_embeddings): Embedding(512, 768)\n",
       "      (token_type_embeddings): Embedding(2, 768)\n",
       "      (LayerNorm): LayerNorm((768,), eps=1e-12, elementwise_affine=True)\n",
       "      (dropout): Dropout(p=0.1, inplace=False)\n",
       "    )\n",
       "    (encoder): BertEncoder(\n",
       "      (layer): ModuleList(\n",
       "        (0-11): 12 x BertLayer(\n",
       "          (attention): BertAttention(\n",
       "            (self): BertSdpaSelfAttention(\n",
       "              (query): Linear(in_features=768, out_features=768, bias=True)\n",
       "              (key): Linear(in_features=768, out_features=768, bias=True)\n",
       "              (value): Linear(in_features=768, out_features=768, bias=True)\n",
       "              (dropout): Dropout(p=0.1, inplace=False)\n",
       "            )\n",
       "            (output): BertSelfOutput(\n",
       "              (dense): Linear(in_features=768, out_features=768, bias=True)\n",
       "              (LayerNorm): LayerNorm((768,), eps=1e-12, elementwise_affine=True)\n",
       "              (dropout): Dropout(p=0.1, inplace=False)\n",
       "            )\n",
       "          )\n",
       "          (intermediate): BertIntermediate(\n",
       "            (dense): Linear(in_features=768, out_features=3072, bias=True)\n",
       "            (intermediate_act_fn): GELUActivation()\n",
       "          )\n",
       "          (output): BertOutput(\n",
       "            (dense): Linear(in_features=3072, out_features=768, bias=True)\n",
       "            (LayerNorm): LayerNorm((768,), eps=1e-12, elementwise_affine=True)\n",
       "            (dropout): Dropout(p=0.1, inplace=False)\n",
       "          )\n",
       "        )\n",
       "      )\n",
       "    )\n",
       "    (pooler): BertPooler(\n",
       "      (dense): Linear(in_features=768, out_features=768, bias=True)\n",
       "      (activation): Tanh()\n",
       "    )\n",
       "  )\n",
       "  (drop): Dropout(p=0.3, inplace=False)\n",
       "  (out_linear): Linear(in_features=768, out_features=4, bias=True)\n",
       ")"
      ]
     },
     "execution_count": 9,
     "metadata": {},
     "output_type": "execute_result"
    }
   ],
   "source": [
    "model.to(\"cpu\")\n",
    "# model.load_state_dict(torch.load(\"./processed/model_2/model.pth\"))"
   ]
  },
  {
   "cell_type": "code",
   "execution_count": 40,
   "metadata": {},
   "outputs": [
    {
     "name": "stdout",
     "output_type": "stream",
     "text": [
      "Je souhaiterais aller de villars les blamont à les villedieu en evitant de paser par [[chauny]], ou chezy en orxois et chivy les etouvelles.\n",
      "Status: intermediary\n"
     ]
    }
   ],
   "source": [
    "sentence = f\"Je souhaiterais aller de villars les blamont à les villedieu en evitant de paser par [[chauny]], ou chezy en orxois et chivy les etouvelles.\"\n",
    "\n",
    "# Tokenisez la phrase\n",
    "inputs = tokenizer(sentence, return_tensors=\"pt\")\n",
    "\n",
    "# Récupérez les input_ids et attention_mask\n",
    "input_ids = inputs[\"input_ids\"]\n",
    "attention_mask = inputs[\"attention_mask\"]\n",
    "\n",
    "outputs = model(input_ids=input_ids, attention_mask=attention_mask)\n",
    "\n",
    "status = le_statuses.inverse_transform(torch.max(outputs, 1).indices)\n",
    "\n",
    "print(sentence)\n",
    "print(f\"Status: {status[0]}\")"
   ]
  },
  {
   "cell_type": "code",
   "execution_count": 10,
   "metadata": {},
   "outputs": [],
   "source": [
    "def make_inference(model, sentence, tokenizer, label_encoder):\n",
    "    inputs = tokenizer(sentence, return_tensors=\"pt\")\n",
    "\n",
    "    input_ids = inputs[\"input_ids\"]\n",
    "    attention_mask = inputs[\"attention_mask\"]\n",
    "\n",
    "    outputs = model(input_ids=input_ids, attention_mask=attention_mask)\n",
    "\n",
    "    output = label_encoder.inverse_transform(torch.max(outputs, 1).indices)\n",
    "    return output[0]"
   ]
  },
  {
   "cell_type": "code",
   "execution_count": 11,
   "metadata": {},
   "outputs": [],
   "source": [
    "def get_pred_from_sentence(sentence, model, tokenizer, label_encoder, cities):\n",
    "    response = []\n",
    "\n",
    "    for city in cities:\n",
    "        sentence = sentence.replace(city, f\"[[{city}]]\")\n",
    "\n",
    "        output = make_inference(\n",
    "            model,\n",
    "            sentence,\n",
    "            tokenizer,\n",
    "            label_encoder\n",
    "        )\n",
    "\n",
    "        sentence = sentence.replace(f\"[[{city}]]\", city)\n",
    "        response.append(\n",
    "            {\n",
    "                \"status\": output,\n",
    "                \"city\": city\n",
    "            }\n",
    "        )\n",
    "\n",
    "    return response "
   ]
  },
  {
   "cell_type": "code",
   "execution_count": 12,
   "metadata": {},
   "outputs": [
    {
     "name": "stdout",
     "output_type": "stream",
     "text": [
      "Je veux passer par bucy le long. Je veux aller à abergement le petit depuis viodos abense de bas en passant par Marseille, \n",
      "mais je veux éviter chauny. Je voudrais aussi passer par bourguignon sous coucy.\n"
     ]
    },
    {
     "data": {
      "text/plain": [
       "[{'status': 'arrival', 'city': 'abergement le petit'},\n",
       " {'status': 'departure', 'city': 'viodos abense de bas'},\n",
       " {'status': 'intermediary', 'city': 'Marseille'},\n",
       " {'status': 'none', 'city': 'chauny'},\n",
       " {'status': 'intermediary', 'city': 'bucy le long'},\n",
       " {'status': 'intermediary', 'city': 'bourguignon sous coucy'}]"
      ]
     },
     "execution_count": 12,
     "metadata": {},
     "output_type": "execute_result"
    }
   ],
   "source": [
    "ville_1 = \"abergement le petit\"\n",
    "ville_2 = \"viodos abense de bas\"\n",
    "ville_3 = \"Marseille\"\n",
    "ville_4 = \"chauny\"\n",
    "ville_5 = \"bucy le long\"\n",
    "ville_6 = \"bourguignon sous coucy\"\n",
    "sentence = f\"Je veux passer par {ville_5}. Je veux aller à {ville_1} depuis {ville_2} en passant par {ville_3}, mais je veux éviter {ville_4}. Je voudrais aussi passer par {ville_6}.\" \n",
    "cities = [ville_1, ville_2, ville_3, ville_4, ville_5, ville_6]\n",
    "\n",
    "sentence_display = f\"Je veux passer par {ville_5}. Je veux aller à {ville_1} depuis {ville_2} en passant par {ville_3}, \\nmais je veux éviter {ville_4}. Je voudrais aussi passer par {ville_6}.\" \n",
    "print(sentence_display)\n",
    "get_pred_from_sentence(\n",
    "    sentence,\n",
    "    model,\n",
    "    tokenizer,\n",
    "    le_statuses,\n",
    "    cities\n",
    ")\n"
   ]
  },
  {
   "cell_type": "code",
   "execution_count": 14,
   "metadata": {},
   "outputs": [
    {
     "name": "stdout",
     "output_type": "stream",
     "text": [
      "Je souhaite partir de Bosmont sur Serre à Brancourt en Laonnois en passant par Chatillon sur Oise.\n"
     ]
    },
    {
     "data": {
      "text/plain": [
       "[{'status': 'departure', 'city': 'Bosmont sur Serre'},\n",
       " {'status': 'arrival', 'city': 'Brancourt en Laonnois'},\n",
       " {'status': 'intermediary', 'city': 'Chatillon sur Oise'}]"
      ]
     },
     "execution_count": 14,
     "metadata": {},
     "output_type": "execute_result"
    }
   ],
   "source": [
    "ville_1 = \"Bosmont sur Serre\"\n",
    "ville_2 = \"Brancourt en Laonnois\"\n",
    "ville_3 = \"Chatillon sur Oise\"\n",
    "sentence = f\"Je souhaite partir de {ville_1} à {ville_2} en passant par {ville_3}.\" \n",
    "cities = [ville_1, ville_2, ville_3]\n",
    "\n",
    "print(sentence)\n",
    "get_pred_from_sentence(\n",
    "    sentence,\n",
    "    model,\n",
    "    tokenizer,\n",
    "    le_statuses,\n",
    "    cities\n",
    ")\n",
    "\n"
   ]
  }
 ],
 "metadata": {
  "kernelspec": {
   "display_name": "Python 3 (ipykernel)",
   "language": "python",
   "name": "python3"
  }
 },
 "nbformat": 4,
 "nbformat_minor": 2
}
