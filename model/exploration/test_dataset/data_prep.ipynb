{
 "cells": [
  {
   "cell_type": "code",
   "execution_count": 1,
   "metadata": {},
   "outputs": [],
   "source": [
    "from tqdm.notebook import tqdm\n",
    "import pandas as pd\n",
    "import numpy as np"
   ]
  },
  {
   "cell_type": "code",
   "execution_count": 2,
   "metadata": {},
   "outputs": [],
   "source": [
    "import sys\n",
    "import os\n",
    "\n",
    "src_dir = os.path.join(os.getcwd(), 'src')\n",
    "sys.path.append(os.path.abspath(src_dir))\n",
    "\n",
    "from importlib import reload\n",
    "\n",
    "import src.data_type.enum\n",
    "\n",
    "reload(src.data_type.enum)\n",
    "\n",
    "from src.data_type.enum import CityType"
   ]
  },
  {
   "cell_type": "code",
   "execution_count": 79,
   "metadata": {},
   "outputs": [],
   "source": [
    "dataset_type = [\"city\", \"train_station\"]\n",
    "brute_sentences_df = pd.read_csv('../data/dataset/test/brute_sentences_test1.csv')\n",
    "df = pd.read_csv('../data/cities_and_train_stations.csv', sep=',')\n",
    "df = df[df[\"class_name\"] == dataset_type[1]]"
   ]
  },
  {
   "cell_type": "code",
   "execution_count": 114,
   "metadata": {},
   "outputs": [],
   "source": [
    "def apply_location(sentence : str, new_df):\n",
    "    row = {}\n",
    "\n",
    "    for class_name in CityType._member_names_:\n",
    "        if(class_name.upper() not in sentence):\n",
    "            continue\n",
    "\n",
    "        sentence = sentence.replace(class_name.upper(), class_name)\n",
    "\n",
    "        random_label = df.iloc[np.random.randint(0, len(df))][\"label\"]\n",
    "        while (random_label in sentence):\n",
    "            random_label = df.iloc[np.random.randint(0, len(df))][\"label\"]\n",
    "\n",
    "        sentence = sentence.replace(class_name, random_label)\n",
    "        row[class_name] = random_label\n",
    "\n",
    "    row[\"sentence\"] = sentence\n",
    "    new_df.append(row)"
   ]
  },
  {
   "cell_type": "code",
   "execution_count": 115,
   "metadata": {},
   "outputs": [
    {
     "data": {
      "application/vnd.jupyter.widget-view+json": {
       "model_id": "4626cdac74cd4e43b2ad648a8094e7d1",
       "version_major": 2,
       "version_minor": 0
      },
      "text/plain": [
       "  0%|          | 0/1050 [00:00<?, ?sentence/s]"
      ]
     },
     "metadata": {},
     "output_type": "display_data"
    }
   ],
   "source": [
    "clean_df = []\n",
    "length = 10\n",
    "\n",
    "with tqdm(total= length * len(brute_sentences_df), unit=\"sentence\") as pbar:\n",
    "    for idx, sentence in enumerate(brute_sentences_df[\"sentence\"]):\n",
    "        for i in range(length):\n",
    "            apply_location(\n",
    "                sentence,\n",
    "                clean_df\n",
    "            )\n",
    "            pbar.update(1)\n",
    "\n",
    "clean_df = pd.DataFrame(clean_df)"
   ]
  },
  {
   "cell_type": "code",
   "execution_count": 116,
   "metadata": {},
   "outputs": [],
   "source": [
    "clean_df.to_csv('../data/dataset/test/test1_train_stations.csv', index=False)"
   ]
  }
 ],
 "metadata": {
  "kernelspec": {
   "display_name": "Python 3 (ipykernel)",
   "language": "python",
   "name": "python3"
  },
  "language_info": {
   "codemirror_mode": {
    "name": "ipython",
    "version": 3
   },
   "file_extension": ".py",
   "mimetype": "text/x-python",
   "name": "python",
   "nbconvert_exporter": "python",
   "pygments_lexer": "ipython3",
   "version": "3.12.2"
  }
 },
 "nbformat": 4,
 "nbformat_minor": 2
}
