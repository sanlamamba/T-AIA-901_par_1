{
 "cells": [
  {
   "cell_type": "code",
   "execution_count": 1,
   "metadata": {},
   "outputs": [],
   "source": [
    "import spacy\n",
    "from tqdm.notebook import tqdm\n",
    "import pandas as pd\n",
    "import numpy as np"
   ]
  },
  {
   "cell_type": "code",
   "execution_count": 3,
   "metadata": {},
   "outputs": [],
   "source": [
    "import sys\n",
    "import os\n",
    "\n",
    "src_dir = os.path.join(os.getcwd(), 'src')\n",
    "sys.path.append(os.path.abspath(src_dir))\n",
    "\n",
    "from importlib import reload\n",
    "\n",
    "import src.data_type.enum\n",
    "\n",
    "reload(src.data_type.enum)\n",
    "\n",
    "from src.data_type.enum import CityType"
   ]
  },
  {
   "cell_type": "code",
   "execution_count": 4,
   "metadata": {},
   "outputs": [],
   "source": [
    "nlp = spacy.load(\"fr_core_news_sm\")\n",
    "# brute_sentences_df = pd.read_csv('../data/dataset/brute_sentences_2.csv')\n",
    "# cities_df = pd.read_csv('../data/cities.csv', sep=',')\n",
    "\n",
    "dataset_type = [\"city\", \"train_station\"]\n",
    "brute_sentences_df = pd.read_csv('../data/dataset/test/brute_sentences_test1.csv')\n",
    "df = pd.read_csv('../data/cities_and_train_stations.csv', sep=',')\n",
    "df = df[df[\"class_name\"] == dataset_type[1]]"
   ]
  },
  {
   "cell_type": "code",
   "execution_count": 6,
   "metadata": {},
   "outputs": [],
   "source": [
    "def apply_tagging_to_sentence(sentence : str, clean_df, class_name):\n",
    "    if(class_name not in sentence):\n",
    "        return\n",
    "\n",
    "    doc_sentence = nlp(sentence)\n",
    "    sentence = [token_word.text for token_word in doc_sentence]\n",
    "    selected_word = None\n",
    "\n",
    "    number_of_repeats = sentence.count(class_name)\n",
    "    if(number_of_repeats > 0):\n",
    "        selected_word_number = np.random.randint(0, number_of_repeats)\n",
    "        indexes = [idx for idx, word in enumerate(sentence) if word == class_name]\n",
    "        selected_index = indexes[selected_word_number]\n",
    "\n",
    "    \n",
    "\n",
    "    for idx, word in enumerate(sentence):\n",
    "        word_is_in_types = word in CityType._member_names_\n",
    "\n",
    "        if(word_is_in_types):\n",
    "            city = df.sample()['label'].values[0].lower()\n",
    "\n",
    "            if(word == class_name and idx == selected_index):\n",
    "                city = f\"[[{city}]]\"\n",
    "                selected_word = city\n",
    "            elif(word == class_name and number_of_repeats == 0):\n",
    "                city = f\"[[{city}]]\"\n",
    "                selected_word = city\n",
    "\n",
    "            sentence[idx] = city\n",
    "\n",
    "    sentence = \" \".join(sentence)\n",
    "\n",
    "    clean_df.append(\n",
    "        {\n",
    "            \"sentence\": sentence,\n",
    "            \"class\": class_name,\n",
    "            \"word\": selected_word,\n",
    "        }\n",
    "    )"
   ]
  },
  {
   "cell_type": "code",
   "execution_count": 8,
   "metadata": {},
   "outputs": [
    {
     "data": {
      "application/vnd.jupyter.widget-view+json": {
       "model_id": "e9ecbc022f43449fac0189ae3bab85b9",
       "version_major": 2,
       "version_minor": 0
      },
      "text/plain": [
       "  0%|          | 0/10500 [00:00<?, ?sentence/s]"
      ]
     },
     "metadata": {},
     "output_type": "display_data"
    }
   ],
   "source": [
    "clean_df = []\n",
    "length = 100\n",
    "\n",
    "with tqdm(total= length * len(brute_sentences_df), unit=\"sentence\") as pbar:\n",
    "    for idx, sentence in enumerate(brute_sentences_df[\"sentence\"]):\n",
    "        for i in range(length):\n",
    "\n",
    "            selected_class_idx = np.random.randint(0, CityType.__len__())\n",
    "            selected_class = CityType._member_names_[selected_class_idx]\n",
    "\n",
    "            apply_tagging_to_sentence(\n",
    "                sentence.lower(),\n",
    "                clean_df,\n",
    "                selected_class\n",
    "            )\n",
    "\n",
    "            pbar.update(1)\n",
    "\n",
    "clean_df = pd.DataFrame(clean_df)"
   ]
  },
  {
   "cell_type": "code",
   "execution_count": 197,
   "metadata": {},
   "outputs": [],
   "source": [
    "new_df_shuffled = clean_df.sample(frac=1)\n",
    "train_df = new_df_shuffled[:int(len(new_df_shuffled)*0.7)]\n",
    "valid_df = new_df_shuffled[int(len(new_df_shuffled)*0.7):int(len(new_df_shuffled)*0.85)]\n",
    "test_df = new_df_shuffled[int(len(new_df_shuffled)*0.85):]"
   ]
  },
  {
   "cell_type": "code",
   "execution_count": 198,
   "metadata": {},
   "outputs": [],
   "source": [
    "train_df.to_csv('../data/dataset/model2_train.csv', index=False)\n",
    "valid_df.to_csv('../data/dataset/model2_valid.csv', index=False)\n",
    "test_df.to_csv('../data/dataset/model2_test.csv', index=False)"
   ]
  }
 ],
 "metadata": {
  "kernelspec": {
   "display_name": "Python 3 (ipykernel)",
   "language": "python",
   "name": "python3"
  },
  "language_info": {
   "codemirror_mode": {
    "name": "ipython",
    "version": 3
   },
   "file_extension": ".py",
   "mimetype": "text/x-python",
   "name": "python",
   "nbconvert_exporter": "python",
   "pygments_lexer": "ipython3",
   "version": "3.12.2"
  }
 },
 "nbformat": 4,
 "nbformat_minor": 2
}
