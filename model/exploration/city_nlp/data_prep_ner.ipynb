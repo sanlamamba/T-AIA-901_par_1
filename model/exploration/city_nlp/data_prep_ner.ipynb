{
 "cells": [
  {
   "cell_type": "code",
   "execution_count": 1,
   "metadata": {},
   "outputs": [],
   "source": [
    "import spacy\n",
    "from tqdm.notebook import tqdm\n",
    "import pandas as pd"
   ]
  },
  {
   "cell_type": "code",
   "execution_count": 6,
   "metadata": {},
   "outputs": [],
   "source": [
    "nlp = spacy.load(\"fr_core_news_sm\")\n",
    "brute_sentences_df = pd.read_csv('../data/dataset/brute_sentences_2.csv')\n",
    "cities_df = pd.read_csv('../data/cities.csv', sep=',')"
   ]
  },
  {
   "cell_type": "code",
   "execution_count": null,
   "metadata": {},
   "outputs": [],
   "source": [
    "cities_df[\"label\"].sample(40)"
   ]
  },
  {
   "cell_type": "code",
   "execution_count": 16,
   "metadata": {},
   "outputs": [],
   "source": [
    "def apply_iob_to_sentence(doc_sentence, clean_df, departure, arrival):\n",
    "    for word in [token_word.text for token_word in doc_sentence]:\n",
    "        if (word in [\"departure\", \"arrival\", \"none\", \"intermediary\"]):\n",
    "            plus_sub_words = cities_df.sample()['label'].values[0].lower()\n",
    "            plus_sub_words = plus_sub_words.split()\n",
    "            sub_words = (departure.split() if word == \"departure\" else arrival.split())\n",
    "\n",
    "            for sub_word_idx, sub_word in enumerate((sub_words if word in [\"departure\", \"arrival\"] else plus_sub_words)):\n",
    "                if (sub_word_idx == 0) :\n",
    "                    clean_df.append(\n",
    "                        {\n",
    "                            \"word\": sub_word,\n",
    "                            \"status\": \"B\"\n",
    "                        }\n",
    "                    )\n",
    "                    continue\n",
    "                clean_df.append(\n",
    "                    {\n",
    "                        \"word\": sub_word,\n",
    "                        \"status\": \"I\"\n",
    "                    }\n",
    "                )\n",
    "            continue\n",
    "        clean_df.append(\n",
    "            {\n",
    "                \"word\": word,\n",
    "                \"status\": \"O\"\n",
    "            }\n",
    "        )"
   ]
  },
  {
   "cell_type": "code",
   "execution_count": 17,
   "metadata": {},
   "outputs": [
    {
     "data": {
      "application/vnd.jupyter.widget-view+json": {
       "model_id": "8d99ea4cadce438081cbadb5ca14987d",
       "version_major": 2,
       "version_minor": 0
      },
      "text/plain": [
       "  0%|          | 0/4560 [00:00<?, ?sentence/s]"
      ]
     },
     "metadata": {},
     "output_type": "display_data"
    }
   ],
   "source": [
    "clean_df = [{\"word\": \"END\", \"status\": \"O\"}]\n",
    "\n",
    "with tqdm(total= 30 * len(brute_sentences_df), unit=\"sentence\") as pbar:\n",
    "    for idx, sentence in enumerate(brute_sentences_df[\"sentence\"]):\n",
    "        sentence = sentence.lower()\n",
    "        for i in range(30):\n",
    "            departure = cities_df.sample()[\"label\"].values[0].lower()\n",
    "            arrival = cities_df.sample()[\"label\"].values[0].lower()\n",
    "\n",
    "            while(arrival == departure):\n",
    "                arrival = cities_df.sample()[\"label\"].values[0].lower()\n",
    "\n",
    "            doc_sentence = nlp(sentence)\n",
    "\n",
    "            apply_iob_to_sentence(\n",
    "                doc_sentence,\n",
    "                clean_df,\n",
    "                departure,\n",
    "                arrival\n",
    "            )\n",
    "\n",
    "            clean_df.append(\n",
    "                {\n",
    "                    \"word\": \"END\",\n",
    "                    \"status\": \"O\" \n",
    "                }               \n",
    "            )\n",
    "            pbar.update(1)\n",
    "\n",
    "clean_df = pd.DataFrame(clean_df)"
   ]
  },
  {
   "cell_type": "code",
   "execution_count": 20,
   "metadata": {},
   "outputs": [
    {
     "data": {
      "application/vnd.jupyter.widget-view+json": {
       "model_id": "c3d2d09842bc4d1c92a477e4ffafbdb1",
       "version_major": 2,
       "version_minor": 0
      },
      "text/plain": [
       "  0%|          | 0/106027 [00:00<?, ?sentence/s]"
      ]
     },
     "metadata": {},
     "output_type": "display_data"
    }
   ],
   "source": [
    "new_df = pd.DataFrame(columns=[\"sub_sentence\", \"status\"])\n",
    "\n",
    "with tqdm(\n",
    "    total=clean_df.shape[0] - 8,\n",
    "    unit=\"sentence\") as pbar:\n",
    "    for idx, row in clean_df.iloc[:-8].iterrows():\n",
    "        sub_sentence = f\"{clean_df.iloc[idx - 1].word}[{clean_df.iloc[idx - 1].status}] \"\n",
    "        additional_words = \" \".join([word for word in clean_df.iloc[idx : idx + 7].word])\n",
    "        sub_sentence += additional_words\n",
    "\n",
    "        new_row = {\n",
    "            \"sub_sentence\": sub_sentence,\n",
    "            \"status\": clean_df.iloc[idx].status\n",
    "        }\n",
    "        new_df = pd.concat([new_df, pd.DataFrame([new_row])], ignore_index=True)\n",
    "        pbar.update(1)"
   ]
  },
  {
   "cell_type": "code",
   "execution_count": 21,
   "metadata": {},
   "outputs": [],
   "source": [
    "new_df_shuffled = new_df.sample(frac=1)\n",
    "train_df = new_df_shuffled[:int(len(new_df_shuffled)*0.7)]\n",
    "valid_df = new_df_shuffled[int(len(new_df_shuffled)*0.7):int(len(new_df_shuffled)*0.85)]\n",
    "test_df = new_df_shuffled[int(len(new_df_shuffled)*0.85):]"
   ]
  },
  {
   "cell_type": "code",
   "execution_count": 22,
   "metadata": {},
   "outputs": [],
   "source": [
    "train_df.to_csv('../data/dataset/ner_train.csv', index=False)\n",
    "valid_df.to_csv('../data/dataset/ner_valid.csv', index=False)\n",
    "test_df.to_csv('../data/dataset/ner_test.csv', index=False)"
   ]
  }
 ],
 "metadata": {
  "kernelspec": {
   "display_name": "Python 3 (ipykernel)",
   "language": "python",
   "name": "python3"
  },
  "language_info": {
   "codemirror_mode": {
    "name": "ipython",
    "version": 3
   },
   "file_extension": ".py",
   "mimetype": "text/x-python",
   "name": "python",
   "nbconvert_exporter": "python",
   "pygments_lexer": "ipython3",
   "version": "3.12.7"
  }
 },
 "nbformat": 4,
 "nbformat_minor": 2
}
