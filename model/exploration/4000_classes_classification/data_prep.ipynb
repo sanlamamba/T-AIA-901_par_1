{
 "cells": [
  {
   "cell_type": "code",
   "execution_count": 1,
   "metadata": {},
   "outputs": [],
   "source": [
    "import pandas as pd\n",
    "from tqdm.notebook import tqdm"
   ]
  },
  {
   "cell_type": "code",
   "execution_count": 2,
   "metadata": {},
   "outputs": [],
   "source": [
    "brute_sentences_df = pd.read_csv('../data/dataset/brute_sentences.csv')\n",
    "train_station_df = pd.read_csv('../data/liste-des-gares.csv', sep=';')"
   ]
  },
  {
   "cell_type": "code",
   "execution_count": 7,
   "metadata": {},
   "outputs": [
    {
     "data": {
      "application/vnd.jupyter.widget-view+json": {
       "model_id": "3f6d9687b1214de9a4c70c35e6ac9105",
       "version_major": 2,
       "version_minor": 0
      },
      "text/plain": [
       "  0%|          | 0/765148 [00:00<?, ?train station/s]"
      ]
     },
     "metadata": {},
     "output_type": "display_data"
    }
   ],
   "source": [
    "clean_df = []\n",
    "\n",
    "with tqdm(total=len(train_station_df) * len(brute_sentences_df), unit=\"train station\") as pbar:\n",
    "    for departure_index, train_station in zip(train_station_df.index, train_station_df[\"LIBELLE\"]):\n",
    "        departure = train_station\n",
    "\n",
    "        for sentence, sentence_index in zip(brute_sentences_df[\"sentence\"], brute_sentences_df.index):\n",
    "            arrival = train_station_df.sample()\n",
    "            \n",
    "            new_sentence = sentence.replace('[arrival]', departure)\n",
    "            new_sentence = new_sentence.replace('[departure]', arrival[\"LIBELLE\"].values[0])\n",
    "\n",
    "            new_row = {\n",
    "                'sentence': new_sentence,\n",
    "                'sentence_id': sentence_index,\n",
    "                'departure': departure,\n",
    "                'departure_train_station_id': departure_index,\n",
    "                'arrival': arrival['LIBELLE'].values[0],\n",
    "                'arrival_train_station_id': arrival.index[0]\n",
    "            }\n",
    "        \n",
    "            clean_df.append(new_row)\n",
    "\n",
    "            pbar.update(1)\n",
    "\n",
    "clean_df = pd.DataFrame(clean_df)"
   ]
  },
  {
   "cell_type": "code",
   "execution_count": 8,
   "metadata": {},
   "outputs": [],
   "source": [
    "clean_df_shuffled = clean_df.sample(frac=1)\n",
    "train_df = clean_df_shuffled[:int(len(clean_df_shuffled)*0.7)]\n",
    "valid_df = clean_df_shuffled[int(len(clean_df_shuffled)*0.7):int(len(clean_df_shuffled)*0.85)]\n",
    "test_df = clean_df_shuffled[int(len(clean_df_shuffled)*0.85):]"
   ]
  },
  {
   "cell_type": "code",
   "execution_count": 9,
   "metadata": {},
   "outputs": [],
   "source": [
    "train_df.to_csv('../data/dataset/arrival_train.csv', index=False)\n",
    "valid_df.to_csv('../data/dataset/arrival_valid.csv', index=False)\n",
    "test_df.to_csv('../data/dataset/arrival_test.csv', index=False)"
   ]
  }
 ],
 "metadata": {
  "kernelspec": {
   "display_name": "Python 3 (ipykernel)",
   "language": "python",
   "name": "python3"
  }
 },
 "nbformat": 4,
 "nbformat_minor": 2
}
